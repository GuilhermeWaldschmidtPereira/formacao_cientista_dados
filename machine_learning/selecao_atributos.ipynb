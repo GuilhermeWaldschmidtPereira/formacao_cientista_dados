{
 "cells": [
  {
   "cell_type": "code",
   "execution_count": 19,
   "id": "b3b66f94-8555-47a8-82a7-d1a582dddf9b",
   "metadata": {},
   "outputs": [],
   "source": [
    "import pandas as pd\n",
    "from sklearn.model_selection import train_test_split\n",
    "from sklearn.preprocessing import LabelEncoder\n",
    "from sklearn.metrics import confusion_matrix, accuracy_score\n",
    "from sklearn.svm import SVC\n",
    "from sklearn.ensemble import ExtraTreesClassifier"
   ]
  },
  {
   "cell_type": "code",
   "execution_count": 20,
   "id": "0b8f04fa-bca0-48e7-bf5e-e07a0ea03565",
   "metadata": {},
   "outputs": [],
   "source": [
    "credito = pd.read_csv('Credit.csv')"
   ]
  },
  {
   "cell_type": "code",
   "execution_count": 21,
   "id": "a498c3b6-0150-4b07-a763-9bde7fdb11f8",
   "metadata": {},
   "outputs": [],
   "source": [
    "previsores = credito.iloc[:, 0:20].values\n",
    "classe = credito.iloc[:,20].values"
   ]
  },
  {
   "cell_type": "code",
   "execution_count": 55,
   "id": "289bedcb-1a1a-4998-a53f-7e60bafc2390",
   "metadata": {},
   "outputs": [],
   "source": [
    "# Transformação dos atributos categóricos em atributos numéricos\n",
    "labelencoder = LabelEncoder()\n",
    "previsores[:,0] = labelencoder.fit_transform(previsores[:,0])\n",
    "previsores[:,2] = labelencoder.fit_transform(previsores[:,2])\n",
    "previsores[:,3] = labelencoder.fit_transform(previsores[:,3])\n",
    "previsores[:,5] = labelencoder.fit_transform(previsores[:,5])\n",
    "previsores[:,6] = labelencoder.fit_transform(previsores[:,6])\n",
    "previsores[:,8] = labelencoder.fit_transform(previsores[:,8])\n",
    "previsores[:,9] = labelencoder.fit_transform(previsores[:,9])\n",
    "previsores[:,11] = labelencoder.fit_transform(previsores[:,11])\n",
    "previsores[:,13] = labelencoder.fit_transform(previsores[:,13])\n",
    "previsores[:,14] = labelencoder.fit_transform(previsores[:,14])\n",
    "previsores[:,16] = labelencoder.fit_transform(previsores[:,16])\n",
    "previsores[:,18] = labelencoder.fit_transform(previsores[:,18])\n",
    "previsores[:,19] = labelencoder.fit_transform(previsores[:,19])"
   ]
  },
  {
   "cell_type": "code",
   "execution_count": 34,
   "id": "5c49dc5a-a642-45f4-a668-ed2693f8a260",
   "metadata": {},
   "outputs": [],
   "source": [
    "# Transformação dos atributos categóricos em atributos numéricos\n",
    "labelencoder = LabelEncoder()\n",
    "for i in range(previsores.shape[1]):\n",
    "    previsores[:, i] = labelencoder.fit_transform(previsores[:, i])"
   ]
  },
  {
   "cell_type": "code",
   "execution_count": 56,
   "id": "c50d77b7-f745-46b3-a732-607281b6fa2d",
   "metadata": {},
   "outputs": [],
   "source": [
    "# Divisão dos dados de treino x teste\n",
    "X_train, X_test, y_train, y_test = train_test_split(previsores, classe, \n",
    "                                                    test_size = 0.3, \n",
    "                                                    random_state = 1)"
   ]
  },
  {
   "cell_type": "code",
   "execution_count": 57,
   "id": "681815d7-5b6b-4cb7-a335-b8a0086e229b",
   "metadata": {},
   "outputs": [
    {
     "data": {
      "text/plain": [
       "SVC()"
      ]
     },
     "execution_count": 57,
     "metadata": {},
     "output_type": "execute_result"
    }
   ],
   "source": [
    "# Criação do modelo, treinamento, obtenção das previsões e taxa de acerto\n",
    "\n",
    "smv = SVC()\n",
    "smv.fit(X_train, y_train)"
   ]
  },
  {
   "cell_type": "code",
   "execution_count": 58,
   "id": "e9f1891a-8534-46f8-9556-8b67c2e4c81d",
   "metadata": {},
   "outputs": [
    {
     "data": {
      "text/plain": [
       "array(['good', 'good', 'good', 'good', 'good', 'good', 'good', 'good',\n",
       "       'good', 'good', 'good', 'good', 'good', 'good', 'good', 'good',\n",
       "       'good', 'good', 'good', 'good', 'good', 'good', 'good', 'good',\n",
       "       'good', 'good', 'good', 'good', 'good', 'good', 'good', 'good',\n",
       "       'good', 'good', 'good', 'good', 'good', 'good', 'good', 'good',\n",
       "       'good', 'good', 'good', 'good', 'good', 'good', 'good', 'good',\n",
       "       'good', 'good', 'good', 'good', 'good', 'good', 'good', 'good',\n",
       "       'good', 'good', 'good', 'good', 'good', 'good', 'good', 'good',\n",
       "       'good', 'good', 'good', 'good', 'good', 'good', 'good', 'good',\n",
       "       'good', 'good', 'good', 'good', 'good', 'good', 'good', 'good',\n",
       "       'good', 'good', 'good', 'good', 'good', 'good', 'good', 'good',\n",
       "       'good', 'good', 'good', 'good', 'good', 'good', 'good', 'good',\n",
       "       'good', 'good', 'good', 'good', 'good', 'good', 'good', 'good',\n",
       "       'good', 'good', 'good', 'good', 'good', 'good', 'good', 'good',\n",
       "       'good', 'good', 'good', 'good', 'good', 'good', 'good', 'good',\n",
       "       'good', 'good', 'good', 'good', 'good', 'good', 'good', 'good',\n",
       "       'good', 'good', 'good', 'good', 'good', 'good', 'good', 'good',\n",
       "       'good', 'good', 'good', 'good', 'good', 'good', 'good', 'good',\n",
       "       'good', 'good', 'good', 'good', 'good', 'good', 'good', 'good',\n",
       "       'good', 'good', 'good', 'good', 'good', 'good', 'good', 'good',\n",
       "       'good', 'good', 'good', 'good', 'good', 'good', 'good', 'good',\n",
       "       'good', 'good', 'good', 'good', 'good', 'good', 'good', 'good',\n",
       "       'good', 'good', 'good', 'good', 'good', 'good', 'good', 'good',\n",
       "       'good', 'good', 'good', 'good', 'good', 'good', 'good', 'good',\n",
       "       'good', 'good', 'good', 'good', 'good', 'good', 'good', 'good',\n",
       "       'good', 'good', 'good', 'good', 'good', 'good', 'good', 'good',\n",
       "       'good', 'good', 'good', 'good', 'good', 'good', 'good', 'good',\n",
       "       'good', 'good', 'good', 'good', 'good', 'good', 'good', 'good',\n",
       "       'good', 'good', 'good', 'good', 'good', 'good', 'good', 'good',\n",
       "       'good', 'good', 'good', 'good', 'good', 'good', 'good', 'good',\n",
       "       'good', 'good', 'good', 'good', 'good', 'good', 'good', 'good',\n",
       "       'good', 'good', 'good', 'good', 'good', 'good', 'good', 'good',\n",
       "       'good', 'good', 'good', 'good', 'good', 'good', 'good', 'good',\n",
       "       'good', 'good', 'good', 'good', 'good', 'good', 'good', 'good',\n",
       "       'good', 'good', 'good', 'good', 'good', 'good', 'good', 'good',\n",
       "       'good', 'good', 'good', 'good', 'good', 'good', 'good', 'good',\n",
       "       'good', 'good', 'good', 'good', 'good', 'good', 'good', 'good',\n",
       "       'good', 'good', 'good', 'good'], dtype=object)"
      ]
     },
     "execution_count": 58,
     "metadata": {},
     "output_type": "execute_result"
    }
   ],
   "source": [
    "previsoes = smv.predict(X_test)\n",
    "previsoes"
   ]
  },
  {
   "cell_type": "code",
   "execution_count": 60,
   "id": "764153cb-8a3a-403c-970f-137b70dc3647",
   "metadata": {},
   "outputs": [
    {
     "data": {
      "text/plain": [
       "0.7133333333333334"
      ]
     },
     "execution_count": 60,
     "metadata": {},
     "output_type": "execute_result"
    }
   ],
   "source": [
    "taxa_acerto = accuracy_score(y_test, previsoes)\n",
    "taxa_acerto"
   ]
  },
  {
   "cell_type": "code",
   "execution_count": 62,
   "id": "d6af6d14-1094-4b13-9a3b-ffc40c725939",
   "metadata": {},
   "outputs": [
    {
     "data": {
      "text/plain": [
       "array([0.10652812, 0.08188117, 0.06939274, 0.05806463, 0.07465735,\n",
       "       0.0525795 , 0.05055115, 0.05461775, 0.04354486, 0.02908302,\n",
       "       0.05025552, 0.04735671, 0.06826002, 0.04060682, 0.03759487,\n",
       "       0.03310276, 0.04148577, 0.02227043, 0.03113846, 0.00702834])"
      ]
     },
     "execution_count": 62,
     "metadata": {},
     "output_type": "execute_result"
    }
   ],
   "source": [
    "forest = ExtraTreesClassifier()\n",
    "forest.fit(X_train, y_train)\n",
    "importancia = forest.feature_importances_\n",
    "importancia"
   ]
  },
  {
   "cell_type": "code",
   "execution_count": 70,
   "id": "0b73c7e9-f58b-4066-9eff-fbc784a1af99",
   "metadata": {},
   "outputs": [],
   "source": [
    "X_train2 = X_train[:,[0,1,2,3,]]\n",
    "X_test2 = X_test[:,[0,1,2,3]]"
   ]
  },
  {
   "cell_type": "code",
   "execution_count": 71,
   "id": "9dff375a-a1c7-48cf-a01c-1c49c3a3d586",
   "metadata": {},
   "outputs": [
    {
     "data": {
      "text/plain": [
       "0.7233333333333334"
      ]
     },
     "execution_count": 71,
     "metadata": {},
     "output_type": "execute_result"
    }
   ],
   "source": [
    "svm2 = SVC()\n",
    "svm2.fit(X_train2, y_train)\n",
    "previsoes2 = svm2.predict(X_test2)\n",
    "taxa_acerto = accuracy_score(y_test, previsoes2)\n",
    "taxa_acerto"
   ]
  }
 ],
 "metadata": {
  "kernelspec": {
   "display_name": "Python 3 (ipykernel)",
   "language": "python",
   "name": "python3"
  },
  "language_info": {
   "codemirror_mode": {
    "name": "ipython",
    "version": 3
   },
   "file_extension": ".py",
   "mimetype": "text/x-python",
   "name": "python",
   "nbconvert_exporter": "python",
   "pygments_lexer": "ipython3",
   "version": "3.9.7"
  }
 },
 "nbformat": 4,
 "nbformat_minor": 5
}
