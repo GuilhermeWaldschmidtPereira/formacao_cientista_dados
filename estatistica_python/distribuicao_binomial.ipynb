{
 "cells": [
  {
   "cell_type": "code",
   "execution_count": 1,
   "id": "e7e836e5-f86b-416a-99b3-7884d44bece8",
   "metadata": {},
   "outputs": [],
   "source": [
    "from scipy.stats import binom"
   ]
  },
  {
   "cell_type": "code",
   "execution_count": 5,
   "id": "65c7cc95-173d-4e82-b0d5-96a181bb903f",
   "metadata": {},
   "outputs": [
    {
     "data": {
      "text/plain": [
       "0.31249999999999983"
      ]
     },
     "execution_count": 5,
     "metadata": {},
     "output_type": "execute_result"
    }
   ],
   "source": [
    "#Jogar um moeda 5 vezes, qual a probabilidade de dar cara 3 vezes?\n",
    "# Eventos = 3 / Experimentos = jogar 5x / Probabilidade = 2 -> 50% -> 0.5\n",
    "prob = binom.pmf(3,5,0.5)\n",
    "prob"
   ]
  },
  {
   "cell_type": "code",
   "execution_count": 6,
   "id": "92d2137d-3154-404a-a116-b0a8acaff991",
   "metadata": {},
   "outputs": [
    {
     "data": {
      "text/plain": [
       "1.0000000000000002"
      ]
     },
     "execution_count": 6,
     "metadata": {},
     "output_type": "execute_result"
    }
   ],
   "source": [
    "# Passar por 4 sinais de 4 tempos, qual a probabilidade de pegar todos verde?\n",
    "# Nenhuma, 1, 2, 3 ou 4 vezes seguida?\n",
    "\n",
    "binom.pmf(0,4,0.25) + binom.pmf(1,4,0.25) + binom.pmf(2,4,0.25) + binom.pmf(3,4,0.25) + binom.pmf(4,4,0.25)"
   ]
  },
  {
   "cell_type": "code",
   "execution_count": 7,
   "id": "b385e254-22c6-4465-abfd-de77ca5f3689",
   "metadata": {},
   "outputs": [
    {
     "data": {
      "text/plain": [
       "0.0625"
      ]
     },
     "execution_count": 7,
     "metadata": {},
     "output_type": "execute_result"
    }
   ],
   "source": [
    "# E se forem sinais de dois tempos?\n",
    "binom.pmf(4,4,0.5)"
   ]
  },
  {
   "cell_type": "code",
   "execution_count": 8,
   "id": "d146a8f1-32ce-4c00-8b2c-46ed8267cc7f",
   "metadata": {},
   "outputs": [
    {
     "data": {
      "text/plain": [
       "1.0"
      ]
     },
     "execution_count": 8,
     "metadata": {},
     "output_type": "execute_result"
    }
   ],
   "source": [
    "# Probabilidade acumulativa\n",
    "binom.cdf(4,4,0.25)"
   ]
  },
  {
   "cell_type": "code",
   "execution_count": 9,
   "id": "f04cc774-30cc-44dd-9cfb-7c6ac8ea980c",
   "metadata": {},
   "outputs": [
    {
     "data": {
      "text/plain": [
       "1.1471271514892587"
      ]
     },
     "execution_count": 9,
     "metadata": {},
     "output_type": "execute_result"
    }
   ],
   "source": [
    "# Concurso com 12 questões, qual a probabilidade de acertar 7 questões\n",
    "# Considerando que cada questão tem 4 alternativas?\n",
    "\n",
    "binom.pmf(7,12,0.25) * 100"
   ]
  },
  {
   "cell_type": "code",
   "execution_count": 10,
   "id": "737e7ace-3812-4af2-931b-1d9efa89403a",
   "metadata": {},
   "outputs": [
    {
     "data": {
      "text/plain": [
       "5.9604644775390625e-06"
      ]
     },
     "execution_count": 10,
     "metadata": {},
     "output_type": "execute_result"
    }
   ],
   "source": [
    "# Probabilidade de acertar as 12 questões\n",
    "binom.pmf(12,12,0.25)*100"
   ]
  }
 ],
 "metadata": {
  "kernelspec": {
   "display_name": "Python 3 (ipykernel)",
   "language": "python",
   "name": "python3"
  },
  "language_info": {
   "codemirror_mode": {
    "name": "ipython",
    "version": 3
   },
   "file_extension": ".py",
   "mimetype": "text/x-python",
   "name": "python",
   "nbconvert_exporter": "python",
   "pygments_lexer": "ipython3",
   "version": "3.9.7"
  }
 },
 "nbformat": 4,
 "nbformat_minor": 5
}
