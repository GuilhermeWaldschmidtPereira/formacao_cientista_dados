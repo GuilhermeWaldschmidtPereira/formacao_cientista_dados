{
 "cells": [
  {
   "cell_type": "code",
   "execution_count": 1,
   "id": "52b050ea-c1cb-4531-a3a2-9d46815eec49",
   "metadata": {},
   "outputs": [],
   "source": [
    "from scipy.stats import t"
   ]
  },
  {
   "cell_type": "code",
   "execution_count": null,
   "id": "09e7d28e-16d7-4b4f-a252-e96a47e0d6d8",
   "metadata": {},
   "outputs": [],
   "source": [
    "#Média do salário dos cientistas de dados = 75 R$ - amostra com 9 funcionários e desvio padrão = 10"
   ]
  },
  {
   "cell_type": "code",
   "execution_count": 2,
   "id": "99c761f7-f8ee-41b7-9b82-4ae22a8bf1d6",
   "metadata": {},
   "outputs": [
    {
     "data": {
      "text/plain": [
       "0.9139983540240443"
      ]
     },
     "execution_count": 2,
     "metadata": {},
     "output_type": "execute_result"
    }
   ],
   "source": [
    "# Qual probabilidade de selecionar um cientista de dados com salário menor que 80 R$ a hora\n",
    "t.cdf(1.5, 8)"
   ]
  },
  {
   "cell_type": "code",
   "execution_count": 3,
   "id": "9c9911d4-42eb-462a-b103-415890d41efc",
   "metadata": {},
   "outputs": [
    {
     "data": {
      "text/plain": [
       "0.08600164597595565"
      ]
     },
     "execution_count": 3,
     "metadata": {},
     "output_type": "execute_result"
    }
   ],
   "source": [
    "#Probabilidade do salário ser maior que 80\n",
    "t.sf(1.5, 8)"
   ]
  },
  {
   "cell_type": "code",
   "execution_count": 4,
   "id": "de4acd50-e241-4771-ba2d-60788a3d56bc",
   "metadata": {},
   "outputs": [
    {
     "data": {
      "text/plain": [
       "0.9999999999999999"
      ]
     },
     "execution_count": 4,
     "metadata": {},
     "output_type": "execute_result"
    }
   ],
   "source": [
    "#Somatório da execição dos dois códigos acima (lado esquerdo + lado direito)\n",
    "t.cdf(1.5, 8) + t.sf(1.5, 8)"
   ]
  }
 ],
 "metadata": {
  "kernelspec": {
   "display_name": "Python 3 (ipykernel)",
   "language": "python",
   "name": "python3"
  },
  "language_info": {
   "codemirror_mode": {
    "name": "ipython",
    "version": 3
   },
   "file_extension": ".py",
   "mimetype": "text/x-python",
   "name": "python",
   "nbconvert_exporter": "python",
   "pygments_lexer": "ipython3",
   "version": "3.9.7"
  }
 },
 "nbformat": 4,
 "nbformat_minor": 5
}
