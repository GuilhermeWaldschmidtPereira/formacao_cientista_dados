{
 "cells": [
  {
   "cell_type": "code",
   "execution_count": 1,
   "id": "c885b64a-a5e2-4c25-a7d5-f2f1ba42249b",
   "metadata": {},
   "outputs": [],
   "source": [
    "from scipy.stats import poisson"
   ]
  },
  {
   "cell_type": "code",
   "execution_count": null,
   "id": "e6cf3f70-42d7-4115-992a-be217b7ef8b3",
   "metadata": {},
   "outputs": [],
   "source": [
    "#Média de acidentes de carro é 2 por dia"
   ]
  },
  {
   "cell_type": "code",
   "execution_count": 5,
   "id": "64332871-9d56-4a55-be08-a2907b18346d",
   "metadata": {},
   "outputs": [
    {
     "data": {
      "text/plain": [
       "0.18044704431548356"
      ]
     },
     "execution_count": 5,
     "metadata": {},
     "output_type": "execute_result"
    }
   ],
   "source": [
    "# Qual a probabilidade de ocorrerem 3 acidentes no mesmo dia?\n",
    "poisson.pmf(3,2)"
   ]
  },
  {
   "cell_type": "code",
   "execution_count": 6,
   "id": "61fea7ca-7897-41f2-ab07-52564356a36d",
   "metadata": {},
   "outputs": [
    {
     "data": {
      "text/plain": [
       "0.857123460498547"
      ]
     },
     "execution_count": 6,
     "metadata": {},
     "output_type": "execute_result"
    }
   ],
   "source": [
    "# Qual a probabilidade de ocorrerem 3 ou menos acidentes do mesmo dia?\n",
    "poisson.cdf(3,2)"
   ]
  },
  {
   "cell_type": "code",
   "execution_count": 7,
   "id": "b6171cbf-7dbe-4d71-a54f-9e6d2e09816e",
   "metadata": {},
   "outputs": [
    {
     "ename": "NameError",
     "evalue": "name 'poison' is not defined",
     "output_type": "error",
     "traceback": [
      "\u001b[1;31m---------------------------------------------------------------------------\u001b[0m",
      "\u001b[1;31mNameError\u001b[0m                                 Traceback (most recent call last)",
      "\u001b[1;32m~\\AppData\\Local\\Temp/ipykernel_8828/2617540962.py\u001b[0m in \u001b[0;36m<module>\u001b[1;34m\u001b[0m\n\u001b[0;32m      1\u001b[0m \u001b[1;31m# Qual a probabilidade de ocorrerem mais de 3 acidentes no mesmo dia?\u001b[0m\u001b[1;33m\u001b[0m\u001b[1;33m\u001b[0m\u001b[0m\n\u001b[1;32m----> 2\u001b[1;33m \u001b[0mpoison\u001b[0m\u001b[1;33m.\u001b[0m\u001b[0msf\u001b[0m\u001b[1;33m(\u001b[0m\u001b[1;36m3\u001b[0m\u001b[1;33m,\u001b[0m\u001b[1;36m2\u001b[0m\u001b[1;33m)\u001b[0m\u001b[1;33m\u001b[0m\u001b[1;33m\u001b[0m\u001b[0m\n\u001b[0m",
      "\u001b[1;31mNameError\u001b[0m: name 'poison' is not defined"
     ]
    }
   ],
   "source": [
    "# Qual a probabilidade de ocorrerem mais de 3 acidentes no mesmo dia?\n",
    "poisson.sf(3,2)"
   ]
  }
 ],
 "metadata": {
  "kernelspec": {
   "display_name": "Python 3 (ipykernel)",
   "language": "python",
   "name": "python3"
  },
  "language_info": {
   "codemirror_mode": {
    "name": "ipython",
    "version": 3
   },
   "file_extension": ".py",
   "mimetype": "text/x-python",
   "name": "python",
   "nbconvert_exporter": "python",
   "pygments_lexer": "ipython3",
   "version": "3.9.7"
  }
 },
 "nbformat": 4,
 "nbformat_minor": 5
}
